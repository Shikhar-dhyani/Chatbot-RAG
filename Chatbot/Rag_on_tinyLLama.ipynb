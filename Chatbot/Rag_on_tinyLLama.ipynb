{
 "cells": [
  {
   "cell_type": "code",
   "execution_count": 5,
   "metadata": {},
   "outputs": [],
   "source": [
    "from llama_index.core import VectorStoreIndex, SimpleDirectoryReader, ServiceContext\n",
    "from llama_index.llms.huggingface import HuggingFaceLLM\n",
    "import torch"
   ]
  },
  {
   "cell_type": "code",
   "execution_count": 6,
   "metadata": {},
   "outputs": [],
   "source": [
    "\n",
    "documents = SimpleDirectoryReader(\"Policies/\").load_data()"
   ]
  },
  {
   "cell_type": "code",
   "execution_count": 7,
   "metadata": {},
   "outputs": [
    {
     "data": {
      "text/plain": [
       "43"
      ]
     },
     "execution_count": 7,
     "metadata": {},
     "output_type": "execute_result"
    }
   ],
   "source": [
    "\n",
    "len(documents)"
   ]
  },
  {
   "cell_type": "code",
   "execution_count": 8,
   "metadata": {},
   "outputs": [
    {
     "data": {
      "text/plain": [
       "Document(id_='20333bb2-dc6c-478f-949f-719f1396f109', embedding=None, metadata={'page_label': '11', 'file_name': 'EmployeeHandbook.pdf', 'file_path': 'c:\\\\Clicflyer\\\\LangChain\\\\TinyLLama\\\\Policies\\\\EmployeeHandbook.pdf', 'file_type': 'application/pdf', 'file_size': 179561, 'creation_date': '2024-03-22', 'last_modified_date': '2024-03-17'}, excluded_embed_metadata_keys=['file_name', 'file_type', 'file_size', 'creation_date', 'last_modified_date', 'last_accessed_date'], excluded_llm_metadata_keys=['file_name', 'file_type', 'file_size', 'creation_date', 'last_modified_date', 'last_accessed_date'], relationships={}, text=' \\nReceiving a bribe: A supplier gives your nephew a job, but makes it clear that in return they \\nexpect you to use your influence in our organization to ensure we continue to do business \\nwith them. It is an offence for a supplier to make such an offer. It would be an offence fo r  \\nyou to accept the offer as you would be doing so to gain a personal  advantage.  \\n \\nHOSPITALITY AND GIFTS  \\n \\nThis policy does not prohibit normal and appropriate hospitality (given and received) to or \\nfrom third parties and the giving or receipt of gifts, pro vided that this is done in accordance \\nwith the norms. Normal and appropriate hospitality and gifts would include where the \\nhospitality or gift is not made with the intention of influencing a third party to obtain or retain \\nbusiness or a business advantage,  or to reward the provision or retention of business or a \\nbusiness advantage, or in explicit or implicit exchange for favours or benefits; complies with \\nlocal law; is given in our name, not in your name; does not include cash or a cash equivalent \\n(such as gift certificates or vouchers), taking into account the reason for the gift, is of an \\nappropriate type and value and given at an appropriate time; is given openly, not secretly; and \\nis not offered to, or accepted from, government officials or representativ es, or politicians or \\npolitical parties. For the purpose of clarity under no circumstance can a gift (received/paid) \\nexceed Rs 1000 in value.  \\n \\nWHAT IS NOT ACCEPTABLE?  \\n \\nIt is not acceptable for you (or someone on your behalf) to give, promise to give, or offer, a \\npayment, gift or hospitality to an individual/government official/third party with the \\nexpectation or hope that a business advantage will be received or will be provided by us in \\nreturn or to reward a business advantage already given; to \"facilitate\" or expedite a routine \\nprocedure; threaten or retaliate against another worker who has refused to commit a bribery \\noffence or who has raised concerns under this policy ; or engage in any activity that might \\nlead to a breach of this  policy.  \\n \\nIf you are asked to make a payment on our behalf, you should always be mindful of what the \\npayment is for and whether the amount requested is proportionate to the goods or services \\nprovided. You should always ask for a receipt which details the reason for the payment. If \\nyou have any suspicions, concerns or queries regarding a payment, you should raise these \\nwith the  Management.  \\n \\nKickbacks are typically payments made in return for a bu siness favour or advantage. All \\nworkers must avoid any activity that might lead to, or suggest, that a facilitation payment or \\nkickback will be made or accepted by us.  \\n \\nDONATIONS  \\n \\nWe do not make charitable donations or contributions to political parties.  \\n \\nYOUR RESPONSIBILITIES  \\n \\nYou must ensure that you read, understand and comply with this policy and the prevention, \\ndetection and reporting of bribery and other forms of corruption are the responsibility of all  ', start_char_idx=None, end_char_idx=None, text_template='{metadata_str}\\n\\n{content}', metadata_template='{key}: {value}', metadata_seperator='\\n')"
      ]
     },
     "execution_count": 8,
     "metadata": {},
     "output_type": "execute_result"
    }
   ],
   "source": [
    "\n",
    "documents[10]"
   ]
  },
  {
   "cell_type": "code",
   "execution_count": 9,
   "metadata": {},
   "outputs": [],
   "source": [
    "from langchain_core.prompts import PromptTemplate\n",
    "\n",
    "\n",
    "prompt_template = \"\"\"\n",
    "    <|USER|>{query_str}<|ASSISTANT|>\n",
    "    \"\"\"\n"
   ]
  },
  {
   "cell_type": "code",
   "execution_count": 10,
   "metadata": {},
   "outputs": [],
   "source": [
    "system_prompt = \"You are a QA bot. Given the questions answer it correctly.\"\n",
    "\n",
    "llm = HuggingFaceLLM(\n",
    "    context_window=2048,\n",
    "    max_new_tokens=256,\n",
    "    generate_kwargs={\"temperature\": 0.1, \"do_sample\": True},\n",
    "    system_prompt=system_prompt,\n",
    "    query_wrapper_prompt=prompt_template,\n",
    "    tokenizer_name=\"TinyLlama/TinyLlama-1.1B-Chat-v1.0\",\n",
    "    model_name=\"TinyLlama/TinyLlama-1.1B-Chat-v1.0\",\n",
    "    device_map=\"cpu\",\n",
    "    model_kwargs={\"torch_dtype\": torch.bfloat16},\n",
    ")"
   ]
  },
  {
   "cell_type": "code",
   "execution_count": 11,
   "metadata": {},
   "outputs": [
    {
     "name": "stderr",
     "output_type": "stream",
     "text": [
      "C:\\Users\\Shikhar\\AppData\\Local\\Temp\\ipykernel_15784\\2943767800.py:5: DeprecationWarning: Call to deprecated class method from_defaults. (ServiceContext is deprecated, please use `llama_index.settings.Settings` instead.) -- Deprecated since version 0.10.0.\n",
      "  service_context = ServiceContext.from_defaults(\n"
     ]
    }
   ],
   "source": [
    "from llama_index.embeddings.huggingface import HuggingFaceEmbedding\n",
    "\n",
    "embed_model = HuggingFaceEmbedding(model_name=\"BAAI/bge-small-en-v1.5\")\n",
    "\n",
    "service_context = ServiceContext.from_defaults(\n",
    "    chunk_size=400,\n",
    "    llm=llm,\n",
    "    embed_model=embed_model\n",
    ")"
   ]
  },
  {
   "cell_type": "code",
   "execution_count": 8,
   "metadata": {},
   "outputs": [],
   "source": [
    "index = VectorStoreIndex.from_documents(documents, service_context=service_context)\n",
    "\n",
    "query_engine = index.as_query_engine()\n",
    "\n",
    "def predict(input,history):\n",
    "  response = query_engine.query(input)\n",
    "  return str(response)\n"
   ]
  },
  {
   "cell_type": "code",
   "execution_count": 9,
   "metadata": {},
   "outputs": [
    {
     "ename": "",
     "evalue": "",
     "output_type": "error",
     "traceback": [
      "\u001b[1;31mThe Kernel crashed while executing code in the current cell or a previous cell. \n",
      "\u001b[1;31mPlease review the code in the cell(s) to identify a possible cause of the failure. \n",
      "\u001b[1;31mClick <a href='https://aka.ms/vscodeJupyterKernelCrash'>here</a> for more info. \n",
      "\u001b[1;31mView Jupyter <a href='command:jupyter.viewOutput'>log</a> for further details."
     ]
    }
   ],
   "source": [
    "result=predict(\"What is the number of leaves employee can avail ?\",\"\")"
   ]
  },
  {
   "cell_type": "code",
   "execution_count": null,
   "metadata": {},
   "outputs": [
    {
     "name": "stdout",
     "output_type": "stream",
     "text": [
      "21 in a year\n"
     ]
    }
   ],
   "source": [
    "print(result)"
   ]
  },
  {
   "cell_type": "code",
   "execution_count": null,
   "metadata": {},
   "outputs": [
    {
     "name": "stdout",
     "output_type": "stream",
     "text": [
      "Running on local URL:  http://127.0.0.1:7866\n",
      "Running on public URL: https://87e49d5dc7fc23fd7c.gradio.live\n",
      "\n",
      "This share link expires in 72 hours. For free permanent hosting and GPU upgrades, run `gradio deploy` from Terminal to deploy to Spaces (https://huggingface.co/spaces)\n"
     ]
    },
    {
     "data": {
      "text/html": [
       "<div><iframe src=\"https://87e49d5dc7fc23fd7c.gradio.live\" width=\"100%\" height=\"500\" allow=\"autoplay; camera; microphone; clipboard-read; clipboard-write;\" frameborder=\"0\" allowfullscreen></iframe></div>"
      ],
      "text/plain": [
       "<IPython.core.display.HTML object>"
      ]
     },
     "metadata": {},
     "output_type": "display_data"
    },
    {
     "data": {
      "text/plain": []
     },
     "execution_count": 102,
     "metadata": {},
     "output_type": "execute_result"
    }
   ],
   "source": [
    "import gradio as gr\n",
    "gr.ChatInterface(predict).launch(share=True)"
   ]
  },
  {
   "cell_type": "code",
   "execution_count": null,
   "metadata": {},
   "outputs": [],
   "source": []
  }
 ],
 "metadata": {
  "kernelspec": {
   "display_name": "Python 3",
   "language": "python",
   "name": "python3"
  },
  "language_info": {
   "codemirror_mode": {
    "name": "ipython",
    "version": 3
   },
   "file_extension": ".py",
   "mimetype": "text/x-python",
   "name": "python",
   "nbconvert_exporter": "python",
   "pygments_lexer": "ipython3",
   "version": "3.10.11"
  }
 },
 "nbformat": 4,
 "nbformat_minor": 2
}
