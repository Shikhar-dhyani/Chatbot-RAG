{
 "cells": [
  {
   "cell_type": "code",
   "execution_count": 1,
   "metadata": {},
   "outputs": [],
   "source": [
    "import os\n",
    "from flask import Flask, request, jsonify\n",
    "from werkzeug.utils import secure_filename\n",
    "from langchain_community.document_loaders import PyPDFLoader\n",
    "from sentence_transformers import SentenceTransformer\n",
    "from langchain_community.vectorstores import Pinecone\n",
    "import mysql.connector\n",
    "from mysql.connector import Error\n"
   ]
  },
  {
   "cell_type": "code",
   "execution_count": 2,
   "metadata": {},
   "outputs": [],
   "source": [
    "UPLOAD_FOLDER = 'uploads'  # Change this to your desired upload directory\n",
    "ALLOWED_EXTENSIONS = {'txt', 'pdf', 'png', 'jpg', 'jpeg', 'gif'}"
   ]
  },
  {
   "cell_type": "code",
   "execution_count": 3,
   "metadata": {},
   "outputs": [],
   "source": [
    "app = Flask(__name__)\n",
    "app.config['SECRET_KEY'] = 'your_secret_key'  # It's important for Flask sessions and CSRF protection\n",
    "app.config['UPLOAD_FOLDER'] = UPLOAD_FOLDER\n",
    "app.config['MAX_CONTENT_LENGTH'] = 16 * 1024 * 1024  # 16MB limit"
   ]
  },
  {
   "cell_type": "code",
   "execution_count": 4,
   "metadata": {},
   "outputs": [],
   "source": [
    "os.makedirs(app.config['UPLOAD_FOLDER'], exist_ok=True)"
   ]
  },
  {
   "cell_type": "code",
   "execution_count": 5,
   "metadata": {},
   "outputs": [],
   "source": [
    "\n",
    "def allowed_file(filename):\n",
    "    return '.' in filename and \\\n",
    "           filename.rsplit('.', 1)[1].lower() in ALLOWED_EXTENSIONS\n"
   ]
  },
  {
   "cell_type": "code",
   "execution_count": 6,
   "metadata": {},
   "outputs": [],
   "source": [
    "def generate_embeddings(texts):\n",
    "    model = SentenceTransformer('sentence-transformers/all-MiniLM-L6-v2')\n",
    "    embeddings = model.encode(texts)\n",
    "    return embeddings\n"
   ]
  },
  {
   "cell_type": "code",
   "execution_count": 7,
   "metadata": {},
   "outputs": [],
   "source": [
    "def Generate_embeddings(file):\n",
    "    pinecone_client = Pinecone(api_key=\"e15f4903-51b8-4ed9-9489-cf7883edb8ab\")\n",
    "    pinecone_index = pinecone_client.Index(\"demo\")\n",
    "    try:\n",
    "        connection = mysql.connector.connect(\n",
    "            host='localhost',  \n",
    "            user='root',\n",
    "            password='Clicflyer@123',\n",
    "            database='policy'\n",
    "        )\n",
    "        \n",
    "        if connection.is_connected():\n",
    "            cursor = connection.cursor()\n",
    "            \n",
    "            filename = secure_filename(file.filename)\n",
    "            file_to_be_saved = os.path.join(app.config['UPLOAD_FOLDER'], filename)\n",
    "            file.save(file_to_be_saved)\n",
    "\n",
    "            pdf_loader = PyPDFLoader(file_to_be_saved)\n",
    "            pages = pdf_loader.load_and_split()\n",
    "\n",
    "            # Generate a document ID and embeddings for each page\n",
    "            base_document_id = os.path.splitext(filename)[0]  # Remove '.pdf' from filename\n",
    "            for i, page in enumerate(pages, start=1):\n",
    "                \n",
    "                page_text = page.page_content\n",
    "\n",
    "                embedding = generate_embeddings([page_text])[0].tolist()  # Generate embedding for the page\n",
    "                document_id = f\"{base_document_id}_{i}\"\n",
    "                pinecone_index.upsert(vectors=[(document_id, embedding)])\n",
    "                \n",
    "                \n",
    "                insert_query = \"INSERT INTO documents (document_id, text) VALUES (%s, %s)\"\n",
    "                cursor.execute(insert_query, (document_id, page_text))\n",
    "            \n",
    "            connection.commit()\n",
    "\n",
    "    except Error as e:\n",
    "        print(\"Error while connecting to MySQL\", e)\n",
    "    finally:\n",
    "        if connection.is_connected():\n",
    "            cursor.close()\n",
    "            connection.close()\n",
    "            print(\"MySQL connection is closed\")\n",
    "\n"
   ]
  },
  {
   "cell_type": "code",
   "execution_count": 8,
   "metadata": {},
   "outputs": [],
   "source": [
    "@app.route('/upload', methods=['POST'])\n",
    "def upload_file():\n",
    "    if 'file' not in request.files:\n",
    "        return jsonify(error=\"No file part\"), 400\n",
    "    file = request.files['file']\n",
    "    if file.filename == '':\n",
    "        return jsonify(error=\"No selected file\"), 400\n",
    "    if file and allowed_file(file.filename):\n",
    "        Generate_embeddings(file)\n",
    "        return jsonify(message=f\"File {file.filename} uploaded successfully\"), 200\n",
    "    else:\n",
    "        return jsonify(error=\"File type not allowed\"), 400"
   ]
  },
  {
   "cell_type": "code",
   "execution_count": 9,
   "metadata": {},
   "outputs": [
    {
     "name": "stdout",
     "output_type": "stream",
     "text": [
      " * Serving Flask app '__main__'\n",
      " * Debug mode: on\n"
     ]
    },
    {
     "name": "stderr",
     "output_type": "stream",
     "text": [
      "WARNING: This is a development server. Do not use it in a production deployment. Use a production WSGI server instead.\n",
      " * Running on http://127.0.0.1:5000\n",
      "Press CTRL+C to quit\n",
      " * Restarting with watchdog (windowsapi)\n"
     ]
    },
    {
     "ename": "SystemExit",
     "evalue": "1",
     "output_type": "error",
     "traceback": [
      "An exception has occurred, use %tb to see the full traceback.\n",
      "\u001b[1;31mSystemExit\u001b[0m\u001b[1;31m:\u001b[0m 1\n"
     ]
    },
    {
     "name": "stderr",
     "output_type": "stream",
     "text": [
      "C:\\Users\\Shikhar\\AppData\\Roaming\\Python\\Python310\\site-packages\\IPython\\core\\interactiveshell.py:3585: UserWarning: To exit: use 'exit', 'quit', or Ctrl-D.\n",
      "  warn(\"To exit: use 'exit', 'quit', or Ctrl-D.\", stacklevel=1)\n"
     ]
    }
   ],
   "source": [
    "\n",
    "if __name__ == '__main__':\n",
    "    app.run(debug=True)\n"
   ]
  },
  {
   "cell_type": "code",
   "execution_count": null,
   "metadata": {},
   "outputs": [],
   "source": []
  }
 ],
 "metadata": {
  "kernelspec": {
   "display_name": "Python 3",
   "language": "python",
   "name": "python3"
  },
  "language_info": {
   "codemirror_mode": {
    "name": "ipython",
    "version": 3
   },
   "file_extension": ".py",
   "mimetype": "text/x-python",
   "name": "python",
   "nbconvert_exporter": "python",
   "pygments_lexer": "ipython3",
   "version": "3.10.11"
  }
 },
 "nbformat": 4,
 "nbformat_minor": 2
}
